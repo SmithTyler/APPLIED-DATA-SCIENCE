{
 "cells": [
  {
   "cell_type": "markdown",
   "metadata": {
    "id": "rxeV_iLE7kaP"
   },
   "source": [
    "Reference:\n",
    "1. official documentation  \n",
    "https://scikit-learn.org/stable/auto_examples/linear_model/plot_sparse_logistic_regression_mnist.html#sphx-glr-auto-examples-linear-model-plot-sparse-logistic-regression-mnist-py  \n",
    "and  \n",
    "https://scikit-learn.org/stable/modules/generated/sklearn.linear_model.LogisticRegression.html  \n",
    "2. blog  \n",
    "https://towardsdatascience.com/logistic-regression-using-python-sklearn-numpy-mnist-handwriting-recognition-matplotlib-a6b31e2b166a"
   ]
  },
  {
   "cell_type": "markdown",
   "metadata": {
    "id": "IdfQXmA97kaR"
   },
   "source": [
    "### Import packages"
   ]
  },
  {
   "cell_type": "code",
   "execution_count": 1,
   "metadata": {
    "id": "wXMsHcCx7kaS"
   },
   "outputs": [],
   "source": [
    "import matplotlib.pyplot as plt\n",
    "import seaborn as sns\n",
    "from sklearn import metrics\n",
    "import numpy as np \n",
    "from sklearn.utils import check_random_state"
   ]
  },
  {
   "cell_type": "code",
   "execution_count": 2,
   "metadata": {
    "id": "ugai1J0z7kac"
   },
   "outputs": [],
   "source": [
    "from sklearn.datasets import fetch_openml\n",
    "# fetch_openml is new latest sevetral version of sklearn, for version 0.19.0 or older please use fetch_mldata\n",
    "# optimization algorithm saga is available only to version 0.23.0 or higher\n",
    "X, y = fetch_openml('mnist_784', version=1, return_X_y=True,as_frame=0)"
   ]
  },
  {
   "cell_type": "code",
   "execution_count": 3,
   "metadata": {
    "id": "XIYFjNoY7kag",
    "outputId": "5aea8225-facc-4bb3-d8ce-28bca65141e5"
   },
   "outputs": [
    {
     "name": "stdout",
     "output_type": "stream",
     "text": [
      "(70000, 784)\n",
      "(70000,)\n"
     ]
    }
   ],
   "source": [
    "# These are the images\n",
    "# There are 70,000 images (28 by 28 images for a dimensionality of 784)\n",
    "print(X.shape)\n",
    "# These are the labels\n",
    "print(y.shape)"
   ]
  },
  {
   "cell_type": "markdown",
   "metadata": {
    "id": "vg9sLaMC7kam"
   },
   "source": [
    "### Split dataset into training dataset and testing dataset"
   ]
  },
  {
   "cell_type": "code",
   "execution_count": 4,
   "metadata": {
    "id": "7bSm7xY37kan"
   },
   "outputs": [],
   "source": [
    "# random shuffle the data\n",
    "random_state = check_random_state(0)\n",
    "permutation = random_state.permutation(X.shape[0])\n",
    "X = X[permutation]\n",
    "y = y[permutation]\n",
    "X = X.reshape((X.shape[0], -1))"
   ]
  },
  {
   "cell_type": "code",
   "execution_count": 5,
   "metadata": {
    "id": "aJkyqg8j7kas"
   },
   "outputs": [],
   "source": [
    "# split the 70k images into 60k training images and 10k testing images\n",
    "from sklearn.model_selection import train_test_split\n",
    "train_img, test_img, train_lbl, test_lbl = train_test_split(X, y, test_size=1/7.0, random_state=0)"
   ]
  },
  {
   "cell_type": "markdown",
   "metadata": {
    "id": "QXvmPptm7kaw"
   },
   "source": [
    "### Showing the Images and Labels "
   ]
  },
  {
   "cell_type": "code",
   "execution_count": 6,
   "metadata": {
    "id": "Y9b8JauK7kax",
    "outputId": "1c6ff0f0-21c2-41ae-b9de-db165773016d"
   },
   "outputs": [
    {
     "data": {
      "image/png": "[encoded data removed]",
      "text/plain": [
       "<Figure size 1440x288 with 5 Axes>"
      ]
     },
     "metadata": {
      "needs_background": "light"
     },
     "output_type": "display_data"
    }
   ],
   "source": [
    "plt.figure(figsize=(20,4))\n",
    "for index, (image, label) in enumerate(zip(train_img[0:5], train_lbl[0:5])):\n",
    "    plt.subplot(1, 5, index + 1)\n",
    "    plt.imshow(np.reshape(image, (28,28)), cmap=plt.cm.gray)\n",
    "    plt.title('Training: {}\\n'.format(label), fontsize = 20)"
   ]
  },
  {
   "cell_type": "markdown",
   "metadata": {
    "id": "2C5fDqX77ka2"
   },
   "source": [
    "### Fit the Logisitic Model with specified optimization methods"
   ]
  },
  {
   "cell_type": "code",
   "execution_count": 7,
   "metadata": {
    "id": "TMOZ6GZB7ka4"
   },
   "outputs": [],
   "source": [
    "# import model\n",
    "from sklearn.linear_model import LogisticRegression"
   ]
  },
  {
   "cell_type": "code",
   "execution_count": 8,
   "metadata": {
    "id": "fdKP6Mc77ka8"
   },
   "outputs": [],
   "source": [
    "# all parameters not specified are set to their defaults\n",
    "# default solver is incredibly slow, may use sag, saga, lgfbs, \n",
    "logisticRegr = LogisticRegression(solver = 'saga')"
   ]
  },
  {
   "cell_type": "code",
   "execution_count": 9,
   "metadata": {
    "id": "wjww5sa77kbA",
    "outputId": "9c0f1579-3575-4590-e5ee-9a255752de79"
   },
   "outputs": [],
   "source": [
    "# train model on training dataset\n",
    "logisticRegr.fit(train_img, train_lbl)"
   ]
  },
  {
   "cell_type": "code",
   "execution_count": null,
   "metadata": {
    "id": "y2zaghda7kbE",
    "outputId": "8dbdd7db-155c-475c-d35e-1f3b73ad961e"
   },
   "outputs": [],
   "source": [
    "# Returns a NumPy Array\n",
    "# Predict for One Observation (image)\n",
    "logisticRegr.predict(test_img[0].reshape(1,-1)), test_lbl[0]"
   ]
  },
  {
   "cell_type": "code",
   "execution_count": null,
   "metadata": {
    "id": "D2GSHw_J7kbJ"
   },
   "outputs": [],
   "source": [
    "predictions = logisticRegr.predict(test_img)"
   ]
  },
  {
   "cell_type": "markdown",
   "metadata": {
    "id": "_O799n-O7kbO"
   },
   "source": [
    "### Measuring Model Performance"
   ]
  },
  {
   "cell_type": "code",
   "execution_count": null,
   "metadata": {
    "id": "h22CAhJP7kbP",
    "outputId": "a408dd15-661d-4a1b-dbe9-d846538aac59"
   },
   "outputs": [],
   "source": [
    "# Use score method to get accuracy of model\n",
    "trainscore = logisticRegr.score(train_img,train_lbl)\n",
    "testscore = logisticRegr.score(test_img, test_lbl)\n",
    "print('The training error is ',1-trainscore,' and the Testing error is',1-testscore)"
   ]
  },
  {
   "cell_type": "markdown",
   "metadata": {
    "id": "3fNq5D7o7kbW"
   },
   "source": [
    "### Display misclassified images with predicted labels"
   ]
  },
  {
   "cell_type": "code",
   "execution_count": null,
   "metadata": {
    "id": "cY_AjHGz7kbX",
    "scrolled": true
   },
   "outputs": [],
   "source": [
    "# collect misclassified images\n",
    "mis_vector = (test_lbl == predictions)\n",
    "misclassifiedIndexes = np.where(mis_vector == 0)[0]"
   ]
  },
  {
   "cell_type": "code",
   "execution_count": null,
   "metadata": {
    "id": "UwR2s91W7kbb",
    "outputId": "d09b219e-f621-4b0c-e882-9789bd064d71"
   },
   "outputs": [],
   "source": [
    "plt.figure(figsize=(20,4))\n",
    "for plotIndex, badIndex in enumerate(misclassifiedIndexes[0:5]):\n",
    "    plt.subplot(1, 5, plotIndex + 1)\n",
    "    plt.imshow(np.reshape(test_img[badIndex], (28,28)), cmap=plt.cm.gray)\n",
    "    plt.title('Predicted: {}, Actual: {}'.format(predictions[badIndex], test_lbl[badIndex]), fontsize = 15)"
   ]
  },
  {
   "cell_type": "code",
   "execution_count": null,
   "metadata": {
    "id": "uz7qqPy17kbe",
    "outputId": "ac78691a-8982-4af1-8ded-18635f7458b3"
   },
   "outputs": [],
   "source": [
    "print('The total # of misclassified images is {}'.format(len(misclassifiedIndexes)))"
   ]
  },
  {
   "cell_type": "markdown",
   "metadata": {},
   "source": [
    "# Problem 1\n",
    "### 5 Images that were correctly classified by the model"
   ]
  },
  {
   "cell_type": "code",
   "execution_count": null,
   "metadata": {},
   "outputs": [],
   "source": [
    "correctclassifiedIndexes = np.where(mis_vector == 1)[0]\n",
    "\n",
    "plt.figure(figsize=(20,4))\n",
    "for plotIndex, goodIndex in enumerate(correctclassifiedIndexes[0:5]):\n",
    "    plt.subplot(1,5,plotIndex + 1)\n",
    "    plt.imshow(np.reshape(test_img[goodIndex],(28,28)), cmap = plt.cm.gray)\n",
    "    plt.title('Predicted: {}, Actual: {}'.format(predictions[goodIndex], test_lbl[goodIndex]), fontsize = 15)"
   ]
  },
  {
   "cell_type": "markdown",
   "metadata": {},
   "source": [
    "# Problem 2\n",
    "### Splitting the images into multiple training and test sets"
   ]
  },
  {
   "cell_type": "code",
   "execution_count": null,
   "metadata": {},
   "outputs": [],
   "source": [
    "import pandas as pd\n",
    "#train_img.type\n",
    "#d = {'Train_Data' : train_img,'Test_Data' : test_img}\n",
    "#MODEL_DF = pd.DataFrame(data = d)\n",
    "\n",
    "#Defining a function to split the data, model, and compute training & test error \n",
    "def training_log(images,labels,ratio):\n",
    "    #Splitting the data based off ratio of test/train\n",
    "    train_img, test_img, train_lbl, test_lbl = train_test_split(images, labels, test_size=ratio, random_state=0)\n",
    "    #defining the logistical regression \n",
    "    logisticRegr = LogisticRegression(solver = 'saga')\n",
    "    #fitting the regression to the data\n",
    "    logisticRegr.fit(train_img, train_lbl)\n",
    "    #computing the training score \n",
    "    trainscore = logisticRegr.score(train_img,train_lbl)\n",
    "    #computing the testing score \n",
    "    testscore = logisticRegr.score(test_img, test_lbl)\n",
    "    return trainscore, testscore, ratio\n",
    "\n",
    "#60k training and 10k testing images\n",
    "[trn_e, tst_e, rtio] = training_log(X,y,(1/7))\n"
   ]
  },
  {
   "cell_type": "code",
   "execution_count": null,
   "metadata": {},
   "outputs": [],
   "source": [
    "print('Training error:',1-trn_e)\n",
    "print('Testing error:',1-tst_e)"
   ]
  },
  {
   "cell_type": "code",
   "execution_count": null,
   "metadata": {},
   "outputs": [],
   "source": [
    "#50k training and 20k testing images\n",
    "[trn_e_2, tst_e_2, rtio_2] = training_log(X,y,(2/7))\n",
    "print('Training error:',1-trn_e_2)\n",
    "print('Testing error:',1-tst_e_2)"
   ]
  },
  {
   "cell_type": "code",
   "execution_count": null,
   "metadata": {},
   "outputs": [],
   "source": [
    "#40k training and 30k testing images\n",
    "[trn_e_3, tst_e_3, rtio_3] = training_log(X,y,(3/7))\n",
    "print('Training error:',1-trn_e_3)\n",
    "print('Testing error:',1-tst_e_3)"
   ]
  },
  {
   "cell_type": "code",
   "execution_count": null,
   "metadata": {},
   "outputs": [],
   "source": [
    "#30k training and 40k testing images\n",
    "[trn_e_4, tst_e_4, rtio_4] = training_log(X,y,(4/7))\n",
    "print('Training error:',1-trn_e_4)\n",
    "print('Testing error:',1-tst_e_4)"
   ]
  },
  {
   "cell_type": "code",
   "execution_count": null,
   "metadata": {},
   "outputs": [],
   "source": [
    "#20k training and 50k testing images\n",
    "[trn_e_5, tst_e_5, rtio_5] = training_log(X,y,(5/7))\n",
    "print('Training error:',1-trn_e_5)\n",
    "print('Testing error:',1-tst_e_5)"
   ]
  },
  {
   "cell_type": "code",
   "execution_count": null,
   "metadata": {},
   "outputs": [],
   "source": [
    "#10k training and 60k testing images\n",
    "[trn_e_6, tst_e_6, rtio_6] = training_log(X,y,(6/7))\n",
    "print('Training error:',1-trn_e_6)\n",
    "print('Testing error:',1-tst_e_6)"
   ]
  },
  {
   "cell_type": "code",
   "execution_count": null,
   "metadata": {},
   "outputs": [],
   "source": [
    "all_TrE = np.zeros(6,dtype = float)\n",
    "all_TrE[0] = 1 - trn_e\n",
    "all_TrE[1] = 1 - trn_e_2\n",
    "all_TrE[2] = 1 - trn_e_3\n",
    "all_TrE[3] = 1 - trn_e_4\n",
    "all_TrE[4] = 1 - trn_e_5\n",
    "all_TrE[5] = 1 - trn_e_6\n",
    "print(all_TrE)\n",
    "training_size = np.array([10000, 20000, 30000, 40000, 50000, 60000])\n",
    "print(training_size)\n",
    "sns.scatterplot(x = training_size,y = all_TrE)\n",
    "plt.title('TRAINING ERRORS OF DIFFERENT TRAINING SIZES')\n",
    "plt.xlabel('Training Set Size')\n",
    "plt.ylabel('Training Error')"
   ]
  },
  {
   "cell_type": "code",
   "execution_count": null,
   "metadata": {},
   "outputs": [],
   "source": [
    "all_Tst = np.zeros(6,dtype = float)\n",
    "all_Tst[0] = 1 - tst_e\n",
    "all_Tst[1] = 1 - tst_e_2\n",
    "all_Tst[2] = 1 - tst_e_3\n",
    "all_Tst[3] = 1 - tst_e_4\n",
    "all_Tst[4] = 1 - tst_e_5\n",
    "all_Tst[5] = 1 - tst_e_6\n",
    "print(all_Tst)\n",
    "\n",
    "sns.scatterplot(x = training_size,y = all_Tst)\n",
    "plt.title('TESTING ERRORS OF DIFFERENT TRAINING SIZES')\n",
    "plt.xlabel('Training Set Size')\n",
    "plt.ylabel('Training Error')"
   ]
  },
  {
   "cell_type": "markdown",
   "metadata": {},
   "source": [
    "# Problem 3 \n",
    "### Credit card logistic regression \n"
   ]
  },
  {
   "cell_type": "code",
   "execution_count": null,
   "metadata": {},
   "outputs": [],
   "source": [
    "# reading in the credit card data \n",
    "ccdf = pd.read_csv('Default.csv')\n",
    "ccdf.head()\n"
   ]
  },
  {
   "cell_type": "code",
   "execution_count": null,
   "metadata": {},
   "outputs": [],
   "source": [
    "#Plotting the data \n",
    "sns.pairplot(ccdf)"
   ]
  },
  {
   "cell_type": "code",
   "execution_count": null,
   "metadata": {},
   "outputs": [],
   "source": [
    "#Turning the categorical data into imperical values and \n",
    "#getting the predictor matrix made\n",
    "X_cc = ccdf[['balance', 'income','student']]\n",
    "X_cc.head()\n",
    "X_cc = pd.get_dummies(data = X_cc, drop_first=True)\n",
    "X_cc.head()\n",
    "cc_pred = X_cc.iloc[:,0:4].values\n",
    "cc_pred[:,1] = cc_pred[:,1]/1000\n",
    "print(cc_pred)\n",
    "#Getting the values for credit card status as imperical values \n",
    "Y_cc = ccdf[['default']]\n",
    "Y_cc = pd.get_dummies(data = Y_cc, drop_first = True)\n",
    "Y_cc = Y_cc.iloc[:,0].values\n",
    "print(Y_cc)"
   ]
  },
  {
   "cell_type": "code",
   "execution_count": null,
   "metadata": {},
   "outputs": [],
   "source": [
    "cc_logreg = LogisticRegression(solver = 'lbfgs',fit_intercept = True, multi_class = 'ovr')\n",
    "cc_logreg.fit(cc_pred,Y_cc)\n",
    "print('INTERCEPT COEFFICENT:',cc_logreg.intercept_[0])\n",
    "print('BALANCE COEFFICENT:',cc_logreg.coef_[0,0])\n",
    "print('INCOME COEFFICENT:',cc_logreg.coef_[0,1])\n",
    "print('STUDENT COEFFICENT:',cc_logreg.coef_[0,2])\n",
    "\n",
    "predicted_cc_results = cc_logreg.predict(cc_pred)\n",
    "axis_cc = np.arange(len(predicted_cc_results))\n",
    "sns.scatterplot(x = axis_cc,y = predicted_cc_results)\n",
    "plt.title('predicted values off model')\n",
    "#print(np.count_nonzero(predicted_cc_results==0))\n",
    "#print(np.count_nonzero(predicted_cc_results==1))"
   ]
  },
  {
   "cell_type": "markdown",
   "metadata": {},
   "source": [
    "# Problem 4) finding the false positive and negative rate "
   ]
  },
  {
   "cell_type": "code",
   "execution_count": null,
   "metadata": {},
   "outputs": [],
   "source": [
    "#print('True length:',len(Y_cc))\n",
    "#print('Predicted length:',len(predicted_cc_results))\n",
    "\n",
    "#Creating a function to determine false negative and false positive rate for binary sets\n",
    "def false_pos_neg_rate(true,pred):\n",
    "    \n",
    "    false_pos_count = 0\n",
    "    false_neg_count = 0\n",
    "    #checking through each instance \n",
    "    for i in range(0,len(true)):\n",
    "        #if the instance is true but should be false \n",
    "        if pred[i] == 1:  \n",
    "            if true[i] == 0:\n",
    "                false_pos_count = false_pos_count + 1\n",
    "        #if the instance is false but should be true \n",
    "        if pred[i] == 0: \n",
    "            if true[i] == 1:\n",
    "                false_neg_count = false_neg_count + 1\n",
    "            \n",
    "    fpos_rate = false_pos_count / np.count_nonzero(true == 0)\n",
    "    fneg_rate = false_neg_count / sum(true)\n",
    "    \n",
    "    return fpos_rate, fneg_rate, false_pos_count, false_neg_count\n",
    "[pos_r,neg_r,pos_c,neg_c] = false_pos_neg_rate(Y_cc,predicted_cc_results)\n",
    "#print(np.count_nonzero(predicted_cc_results==0))\n",
    "print('False positive rate:',pos_r*100,'%')\n",
    "print('False negative rate:',neg_r*100,'%')\n",
    "print('# of false positives:',pos_c)\n",
    "print('# of false negatives:',neg_c)\n",
    "\n",
    "#print(sum(Y_cc))"
   ]
  },
  {
   "cell_type": "markdown",
   "metadata": {},
   "source": [
    "# Problem 5\n",
    "### Textbook problem 4.6\n",
    "X1 = hours studied per week \n",
    "X2 = GPA\n",
    "Y = They get an A\n",
    "given:\n",
    "B0 = -6\n",
    "B1 = 0.05\n",
    "B2 = 1\n",
    "### A) P{Receives A |40 hours studying & 3.5 GPA}\n",
    "X1 = 40, X2 = 3.5\n",
    "\n",
    "p(x) = e^exponent / (1 + e^exponent) -> probability of receiving an A\n",
    "\n",
    "exponent = B0 + B1 * X1 + B2 * X2\n",
    "\n",
    "exponent = -6 + (0.05 * 40) + (1 * 3.5) = -0.5\n",
    "\n",
    "so p(x) = e^(-0.5) / (1 + e^(-0.5)) = 0.377\n",
    "therefore the change they get an A is 37.7%\n",
    "\n",
    "### B) How many hours to get 50% chance of an A?\n",
    "let p(x) = 0.5 \n",
    "\n",
    "X1 = ?, X2 = 3.5\n",
    "\n",
    "exponent = 0.05 * X1 - 2.5\n",
    "\n",
    "0.5 = e^exponent / ( 1 + e^exponent)\n",
    "\n",
    "1 + e^exponent = 2 * e^exponent\n",
    "e^exponent = 1\n",
    "\n",
    "ln(e^exponent) = ln(1)\n",
    "\n",
    "exponent = 0\n",
    "\n",
    "0.05 * X1 - 2.5 = 0\n",
    "\n",
    "X1 = 2.5 / 0.05\n",
    "\n",
    "X1 = 50\n",
    "\n",
    "therfore the sutdent would need to study 50 hours per week to have a 50% chance of getting an A."
   ]
  }
 ],
 "metadata": {
  "colab": {
   "name": "Logistic Regression MNIST.ipynb",
   "provenance": []
  },
  "interpreter": {
   "hash": "37d0c0934e113219b1777933dda9bea300d4d89605f78eb3798627f7576331a3"
  },
  "kernelspec": {
   "display_name": "Python 3.8.8 64-bit (conda)",
   "name": "python3"
  },
  "language_info": {
   "codemirror_mode": {
    "name": "ipython",
    "version": 3
   },
   "file_extension": ".py",
   "mimetype": "text/x-python",
   "name": "python",
   "nbconvert_exporter": "python",
   "pygments_lexer": "ipython3",
   "version": "3.8.8"
  }
 },
 "nbformat": 4,
 "nbformat_minor": 1
}
