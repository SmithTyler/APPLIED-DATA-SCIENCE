{
 "cells": [
  {
   "cell_type": "markdown",
   "metadata": {
    "id": "rxeV_iLE7kaP"
   },
   "source": [
    "Reference:\n",
    "1. official documentation  \n",
    "https://scikit-learn.org/stable/auto_examples/linear_model/plot_sparse_logistic_regression_mnist.html#sphx-glr-auto-examples-linear-model-plot-sparse-logistic-regression-mnist-py  \n",
    "and  \n",
    "https://scikit-learn.org/stable/modules/generated/sklearn.linear_model.LogisticRegression.html  \n",
    "2. blog  \n",
    "https://towardsdatascience.com/logistic-regression-using-python-sklearn-numpy-mnist-handwriting-recognition-matplotlib-a6b31e2b166a"
   ]
  },
  {
   "cell_type": "markdown",
   "metadata": {
    "id": "IdfQXmA97kaR"
   },
   "source": [
    "### Import packages"
   ]
  },
  {
   "cell_type": "code",
   "execution_count": 1,
   "metadata": {
    "id": "wXMsHcCx7kaS"
   },
   "outputs": [],
   "source": [
    "import matplotlib.pyplot as plt\n",
    "import seaborn as sns\n",
    "from sklearn import metrics\n",
    "import numpy as np \n",
    "from sklearn.utils import check_random_state"
   ]
  },
  {
   "cell_type": "code",
   "execution_count": 2,
   "metadata": {
    "id": "ugai1J0z7kac"
   },
   "outputs": [],
   "source": [
    "from sklearn.datasets import fetch_openml\n",
    "# fetch_openml is new latest sevetral version of sklearn, for version 0.19.0 or older please use fetch_mldata\n",
    "# optimization algorithm saga is available only to version 0.23.0 or higher\n",
    "X, y = fetch_openml('mnist_784', version=1, return_X_y=True,as_frame=0)"
   ]
  },
  {
   "cell_type": "code",
   "execution_count": 3,
   "metadata": {
    "id": "XIYFjNoY7kag",
    "outputId": "5aea8225-facc-4bb3-d8ce-28bca65141e5"
   },
   "outputs": [
    {
     "name": "stdout",
     "output_type": "stream",
     "text": [
      "(70000, 784)\n",
      "(70000,)\n"
     ]
    }
   ],
   "source": [
    "# These are the images\n",
    "# There are 70,000 images (28 by 28 images for a dimensionality of 784)\n",
    "print(X.shape)\n",
    "# These are the labels\n",
    "print(y.shape)"
   ]
  },
  {
   "cell_type": "markdown",
   "metadata": {
    "id": "vg9sLaMC7kam"
   },
   "source": [
    "### Split dataset into training dataset and testing dataset"
   ]
  },
  {
   "cell_type": "code",
   "execution_count": 4,
   "metadata": {
    "id": "7bSm7xY37kan"
   },
   "outputs": [],
   "source": [
    "# random shuffle the data\n",
    "random_state = check_random_state(0)\n",
    "permutation = random_state.permutation(X.shape[0])\n",
    "X = X[permutation]\n",
    "y = y[permutation]\n",
    "X = X.reshape((X.shape[0], -1))"
   ]
  },
  {
   "cell_type": "code",
   "execution_count": 5,
   "metadata": {
    "id": "aJkyqg8j7kas"
   },
   "outputs": [],
   "source": [
    "# split the 70k images into 60k training images and 10k testing images\n",
    "from sklearn.model_selection import train_test_split\n",
    "train_img, test_img, train_lbl, test_lbl = train_test_split(X, y, test_size=1/7.0, random_state=0)"
   ]
  },
  {
   "cell_type": "markdown",
   "metadata": {
    "id": "QXvmPptm7kaw"
   },
   "source": [
    "### Showing the Images and Labels "
   ]
  },
  {
   "cell_type": "code",
   "execution_count": 6,
   "metadata": {
    "id": "Y9b8JauK7kax",
    "outputId": "1c6ff0f0-21c2-41ae-b9de-db165773016d"
   },
   "outputs": [
    {
     "data": {
      "image/png": "[encoded data removed]",
      "text/plain": [
       "<Figure size 1440x288 with 5 Axes>"
      ]
     },
     "metadata": {
      "needs_background": "light"
     },
     "output_type": "display_data"
    }
   ],
   "source": [
    "plt.figure(figsize=(20,4))\n",
    "for index, (image, label) in enumerate(zip(train_img[0:5], train_lbl[0:5])):\n",
    "    plt.subplot(1, 5, index + 1)\n",
    "    plt.imshow(np.reshape(image, (28,28)), cmap=plt.cm.gray)\n",
    "    plt.title('Training: {}\\n'.format(label), fontsize = 20)"
   ]
  },
  {
   "cell_type": "markdown",
   "metadata": {
    "id": "2C5fDqX77ka2"
   },
   "source": [
    "### Fit the Logisitic Model with specified optimization methods"
   ]
  },
  {
   "cell_type": "code",
   "execution_count": 7,
   "metadata": {
    "id": "TMOZ6GZB7ka4"
   },
   "outputs": [],
   "source": [
    "# import model\n",
    "from sklearn.linear_model import LogisticRegression"
   ]
  },
  {
   "cell_type": "code",
   "execution_count": 8,
   "metadata": {
    "id": "fdKP6Mc77ka8"
   },
   "outputs": [],
   "source": [
    "# all parameters not specified are set to their defaults\n",
    "# default solver is incredibly slow, may use sag, saga, lgfbs, \n",
    "logisticRegr = LogisticRegression(solver = 'saga')"
   ]
  },
  {
   "cell_type": "code",
   "execution_count": 9,
   "metadata": {
    "id": "wjww5sa77kbA",
    "outputId": "9c0f1579-3575-4590-e5ee-9a255752de79"
   },
   "outputs": [
    {
     "name": "stderr",
     "output_type": "stream",
     "text": [
      "C:\\Users\\tbsvb\\anaconda3\\lib\\site-packages\\sklearn\\linear_model\\_sag.py:328: ConvergenceWarning: The max_iter was reached which means the coef_ did not converge\n",
      "  warnings.warn(\"The max_iter was reached which means \"\n"
     ]
    },
    {
     "data": {
      "text/plain": [
       "LogisticRegression(solver='saga')"
      ]
     },
     "execution_count": 9,
     "metadata": {},
     "output_type": "execute_result"
    }
   ],
   "source": [
    "# train model on training dataset\n",
    "logisticRegr.fit(train_img, train_lbl)"
   ]
  },
  {
   "cell_type": "code",
   "execution_count": 10,
   "metadata": {
    "id": "y2zaghda7kbE",
    "outputId": "8dbdd7db-155c-475c-d35e-1f3b73ad961e"
   },
   "outputs": [
    {
     "data": {
      "text/plain": [
       "(array(['8'], dtype=object), '8')"
      ]
     },
     "execution_count": 10,
     "metadata": {},
     "output_type": "execute_result"
    }
   ],
   "source": [
    "# Returns a NumPy Array\n",
    "# Predict for One Observation (image)\n",
    "logisticRegr.predict(test_img[0].reshape(1,-1)), test_lbl[0]"
   ]
  },
  {
   "cell_type": "code",
   "execution_count": 11,
   "metadata": {
    "id": "D2GSHw_J7kbJ"
   },
   "outputs": [],
   "source": [
    "predictions = logisticRegr.predict(test_img)"
   ]
  },
  {
   "cell_type": "markdown",
   "metadata": {
    "id": "_O799n-O7kbO"
   },
   "source": [
    "### Measuring Model Performance"
   ]
  },
  {
   "cell_type": "code",
   "execution_count": 12,
   "metadata": {
    "id": "h22CAhJP7kbP",
    "outputId": "a408dd15-661d-4a1b-dbe9-d846538aac59"
   },
   "outputs": [
    {
     "name": "stdout",
     "output_type": "stream",
     "text": [
      "The training error is  0.06101666666666672  and the Testing error is 0.07669999999999999\n"
     ]
    }
   ],
   "source": [
    "# Use score method to get accuracy of model\n",
    "trainscore = logisticRegr.score(train_img,train_lbl)\n",
    "testscore = logisticRegr.score(test_img, test_lbl)\n",
    "print('The training error is ',1-trainscore,' and the Testing error is',1-testscore)"
   ]
  },
  {
   "cell_type": "markdown",
   "metadata": {
    "id": "3fNq5D7o7kbW"
   },
   "source": [
    "### Display misclassified images with predicted labels"
   ]
  },
  {
   "cell_type": "code",
   "execution_count": 13,
   "metadata": {
    "id": "cY_AjHGz7kbX",
    "scrolled": true
   },
   "outputs": [],
   "source": [
    "# collect misclassified images\n",
    "mis_vector = (test_lbl == predictions)\n",
    "misclassifiedIndexes = np.where(mis_vector == 0)[0]"
   ]
  },
  {
   "cell_type": "code",
   "execution_count": 14,
   "metadata": {
    "id": "UwR2s91W7kbb",
    "outputId": "d09b219e-f621-4b0c-e882-9789bd064d71"
   },
   "outputs": [
    {
     "data": {
      "image/png": "[encoded data removed]",
      "text/plain": [
       "<Figure size 1440x288 with 5 Axes>"
      ]
     },
     "metadata": {
      "needs_background": "light"
     },
     "output_type": "display_data"
    }
   ],
   "source": [
    "plt.figure(figsize=(20,4))\n",
    "for plotIndex, badIndex in enumerate(misclassifiedIndexes[0:5]):\n",
    "    plt.subplot(1, 5, plotIndex + 1)\n",
    "    plt.imshow(np.reshape(test_img[badIndex], (28,28)), cmap=plt.cm.gray)\n",
    "    plt.title('Predicted: {}, Actual: {}'.format(predictions[badIndex], test_lbl[badIndex]), fontsize = 15)"
   ]
  },
  {
   "cell_type": "code",
   "execution_count": 15,
   "metadata": {
    "id": "uz7qqPy17kbe",
    "outputId": "ac78691a-8982-4af1-8ded-18635f7458b3"
   },
   "outputs": [
    {
     "name": "stdout",
     "output_type": "stream",
     "text": [
      "The total # of misclassified images is 767\n"
     ]
    }
   ],
   "source": [
    "print('The total # of misclassified images is {}'.format(len(misclassifiedIndexes)))"
   ]
  },
  {
   "cell_type": "markdown",
   "metadata": {},
   "source": []
  }
 ],
 "metadata": {
  "colab": {
   "name": "Logistic Regression MNIST.ipynb",
   "provenance": []
  },
  "interpreter": {
   "hash": "37d0c0934e113219b1777933dda9bea300d4d89605f78eb3798627f7576331a3"
  },
  "kernelspec": {
   "display_name": "Python 3.8.8 64-bit ('base': conda)",
   "name": "python3"
  },
  "language_info": {
   "codemirror_mode": {
    "name": "ipython",
    "version": 3
   },
   "file_extension": ".py",
   "mimetype": "text/x-python",
   "name": "python",
   "nbconvert_exporter": "python",
   "pygments_lexer": "ipython3",
   "version": "3.8.8"
  }
 },
 "nbformat": 4,
 "nbformat_minor": 1
}
