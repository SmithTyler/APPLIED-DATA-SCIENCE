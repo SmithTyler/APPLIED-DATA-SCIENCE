{
 "cells": [
  {
   "cell_type": "markdown",
   "id": "numeric-bradford",
   "metadata": {},
   "source": [
    "# Homework 1\n",
    "\n",
    "* This is an introductory homework to familiarize you with handling datasets and visualizing them by using different libraries. \n",
    "* Please go through the Pandas tutorial in Canvas module 1, prior to attempting this homework.\n",
    "* There is a Notebook on Canvas called ISLRChapter2Prob8.ipynb which has solutions to Problem 8 from Chapter 2 in the book. Use that as a guide to learn about some Pandas functions.\n",
    "* Contact the TA regarding any doubts (details available in the *office hours* tab in Canvas)\n",
    "* All the data required for all the homeworks will be available in  Canvas - Files/Homeworks/Data \n",
    "\n",
    "\n",
    "* In this homework we will explore the **Iris dataset** ."
   ]
  },
  {
   "cell_type": "markdown",
   "id": "substantial-headset",
   "metadata": {},
   "source": [
    "### Importing relevant libraries\n",
    "\n",
    "* We start off by importing required libraries "
   ]
  },
  {
   "cell_type": "code",
   "execution_count": null,
   "id": "brief-kinase",
   "metadata": {},
   "outputs": [],
   "source": [
    "import pandas as pd\n",
    "import numpy as np\n",
    "import matplotlib.pyplot as plt\n",
    "import seaborn as sns\n",
    "from sklearn import metrics\n",
    "sns.set()"
   ]
  },
  {
   "cell_type": "markdown",
   "id": "juvenile-companion",
   "metadata": {},
   "source": [
    "### Loading data\n",
    "\n",
    "* The data is in a csv file : $\\text{'Iris.csv'}$\n",
    "* Import this file using $\\text{\"pd.read_csv( )\"}$ command\n",
    "* When importing the file make sure the notebook is in the same location as the file or specify the path of the file like $\\text{data\\ iris.csv}$"
   ]
  },
  {
   "cell_type": "code",
   "execution_count": null,
   "id": "wireless-immigration",
   "metadata": {},
   "outputs": [],
   "source": []
  },
  {
   "cell_type": "markdown",
   "id": "sustained-crawford",
   "metadata": {},
   "source": [
    "### Gaining information from data\n",
    "\n",
    "It is always a good idea to first understand what is your data set. What are the different features etc.\n",
    "\n",
    "* Use $\\text{\"df.info( )\"}$ command to get basic information about the datafarme\n",
    "* Use $\\text{\"df.describe( )\"}$ command to get statistical information about the dataframe\n",
    "* df here refers to dataframe"
   ]
  },
  {
   "cell_type": "code",
   "execution_count": null,
   "id": "innovative-curtis",
   "metadata": {},
   "outputs": [],
   "source": []
  },
  {
   "cell_type": "markdown",
   "id": "delayed-appointment",
   "metadata": {},
   "source": [
    "### Checking for duplicate entries\n",
    "\n",
    "* Use $\\text{\"df.duplicated( )\"}$ command to get the indices of duplicate rows\n",
    "* Use $\\text{\"df[‘column_name’].value_counts( )\"}$ command to get the counts of different species in the dataset."
   ]
  },
  {
   "cell_type": "code",
   "execution_count": null,
   "id": "casual-investigator",
   "metadata": {},
   "outputs": [],
   "source": []
  },
  {
   "cell_type": "markdown",
   "id": "immediate-harbor",
   "metadata": {},
   "source": [
    "### Data visualization\n",
    "\n",
    "In this section you will be required to generate certain plots/graphs from the data  and provide your comments/insights from the plots "
   ]
  },
  {
   "cell_type": "markdown",
   "id": "threatened-surgery",
   "metadata": {},
   "source": [
    "#### a) Species count\n",
    "\n",
    "* For this you are required to produce a histogram about the counts of different ***species*** in the datasets\n",
    "* Use $\\text{\"sns.countplot( )\"}$ "
   ]
  },
  {
   "cell_type": "code",
   "execution_count": null,
   "id": "alternative-ferry",
   "metadata": {},
   "outputs": [],
   "source": [
    "# plt.figure(figsize=( _ , _ ))\n",
    "# plt.title(‘Title’)\n"
   ]
  },
  {
   "cell_type": "markdown",
   "id": "advanced-reform",
   "metadata": {},
   "source": [
    "*Type your insights here*\n",
    "\n",
    "* __"
   ]
  },
  {
   "cell_type": "markdown",
   "id": "overhead-genesis",
   "metadata": {},
   "source": [
    "#### b) Uni-variate analysis :  Comparison between various species based on sepal length and width\n",
    "\n",
    "\n",
    "* For this you are required to produce a ***scatter plot between sepal length and sepal width for different species*** in the dataset\n",
    "* Use $\\text{\"sns.scatterplot( )\"}$ \n",
    "* Set the $\\text{hue}$ parameter to be the species column of the dataframe"
   ]
  },
  {
   "cell_type": "code",
   "execution_count": null,
   "id": "identified-overhead",
   "metadata": {},
   "outputs": [],
   "source": [
    "# plt.figure(figsize=( _ , _ ))\n",
    "# plt.title(‘Title’)\n"
   ]
  },
  {
   "cell_type": "markdown",
   "id": "tropical-discovery",
   "metadata": {},
   "source": [
    "*Type your insights here*\n",
    "\n",
    "* __"
   ]
  },
  {
   "cell_type": "markdown",
   "id": "compliant-portfolio",
   "metadata": {},
   "source": [
    "#### c) Bi-variate analysis : Plot pairwise relationships\n",
    "\n",
    "* For this you are required to produce a ***pair plot between all the features for different species*** in the dataset\n",
    "* Use $\\text{\"sns.pairplot( )\"}$ \n",
    "* Set the $\\text{hue}$ parameter to be the species column of the dataframe"
   ]
  },
  {
   "cell_type": "code",
   "execution_count": null,
   "id": "departmental-shoot",
   "metadata": {},
   "outputs": [],
   "source": [
    "# plt.figure(figsize=( _ , _ ))\n",
    "# plt.title(‘Title’)\n"
   ]
  },
  {
   "cell_type": "markdown",
   "id": "checked-residence",
   "metadata": {},
   "source": [
    "*Type your insights here*\n",
    "\n",
    "* __"
   ]
  },
  {
   "cell_type": "markdown",
   "id": "extraordinary-procurement",
   "metadata": {},
   "source": [
    "### Checking correlation\n",
    "\n",
    "* For this you are required to plot the correlation matrix\n",
    "* Use $\\text{\"df.corr( )\"}$  to obtain the correlation matrix\n",
    "* Use $\\text{\"sns.heatmap( )\"}$ \n",
    "* Set annnotations ($\\text{annot}$) to be true in the heatmap "
   ]
  },
  {
   "cell_type": "code",
   "execution_count": null,
   "id": "bigger-temple",
   "metadata": {},
   "outputs": [],
   "source": [
    "# plt.figure(figsize=( _ , _ ))\n",
    "\n",
    "\n",
    "\n",
    "#plt.plot()"
   ]
  },
  {
   "cell_type": "markdown",
   "id": "insured-restoration",
   "metadata": {},
   "source": [
    "*Type your insights here*\n",
    "\n",
    "* __"
   ]
  },
  {
   "cell_type": "markdown",
   "id": "c83bdfc6",
   "metadata": {},
   "source": [
    "This problem is independent of the Iris dataset and is meant to give you some practice to compute conditional expectation.\n",
    "\n",
    "Let $X$ and $Y$ be two random variables with joint distribution given below\n",
    "$$\n",
    "f_{XY}(x,y) = \\begin{cases}\n",
    "2 & \\text{if} \\ 0 < y < x < 1 \\\\\n",
    "0 & \\text{otherwise}\n",
    "\\end{cases}\n",
    "$$\n",
    "Compute the conditional expectation $\\mathrm{E}[Y|X]$"
   ]
  },
  {
   "cell_type": "code",
   "execution_count": null,
   "id": "77863316",
   "metadata": {},
   "outputs": [],
   "source": []
  }
 ],
 "metadata": {
  "kernelspec": {
   "display_name": "Python 3",
   "language": "python",
   "name": "python3"
  },
  "language_info": {
   "codemirror_mode": {
    "name": "ipython",
    "version": 3
   },
   "file_extension": ".py",
   "mimetype": "text/x-python",
   "name": "python",
   "nbconvert_exporter": "python",
   "pygments_lexer": "ipython3",
   "version": "3.8.8"
  }
 },
 "nbformat": 4,
 "nbformat_minor": 5
}
