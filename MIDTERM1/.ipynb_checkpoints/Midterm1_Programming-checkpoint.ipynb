{
 "cells": [
  {
   "cell_type": "markdown",
   "metadata": {},
   "source": [
    "## Due date - Saturday 10/30/2021 11.59 PM \n",
    "\n",
    "## General instructions\n",
    "\n",
    "You can use any function from sklearn that can be found in the following link:  \n",
    "https://scikit-learn.org/stable/supervised_learning.html#supervised-learning\n",
    "Particularly, you can use built in models in sklearn\n",
    "\n",
    "You can also use built-in functions from numpy and pandas\n",
    "\n",
    "You can use refer to your homework submissions for this class, class lectures and the text book.\n",
    "\n",
    "You cannot use any other functions. If you absolute need to use other functions, check with me first\n",
    "\n",
    "You cannot use any other resources and you cannot discuss the exam with anyone other than me or the TA.\n",
    "\n",
    "If you have any questions, use the discussion forums to ask questions."
   ]
  },
  {
   "cell_type": "markdown",
   "metadata": {},
   "source": [
    "## Classification (50 points)"
   ]
  },
  {
   "cell_type": "markdown",
   "metadata": {},
   "source": [
    "Your task is to build a good classifier based on the techniques we have learned in class so far.  The training dataset to use is **Midterm1_Classification.csv** . For your choice of the classifier, provide the model parameters, confusion matrix and accuracy of classification. This is a design problem - so explain how you would go about picking the best classifier.  \n"
   ]
  },
  {
   "cell_type": "markdown",
   "metadata": {},
   "source": [
    "### Libraries IU"
   ]
  },
  {
   "cell_type": "code",
   "execution_count": 1,
   "metadata": {},
   "outputs": [],
   "source": [
    "import numpy as np\n",
    "import pandas as pd\n",
    "import sklearn\n",
    "import matplotlib.pyplot as plt\n",
    "import seaborn as sns"
   ]
  }
 ],
 "metadata": {
  "kernelspec": {
   "display_name": "Python 3",
   "language": "python",
   "name": "python3"
  },
  "language_info": {
   "codemirror_mode": {
    "name": "ipython",
    "version": 3
   },
   "file_extension": ".py",
   "mimetype": "text/x-python",
   "name": "python",
   "nbconvert_exporter": "python",
   "pygments_lexer": "ipython3",
   "version": "3.8.8"
  }
 },
 "nbformat": 4,
 "nbformat_minor": 2
}
